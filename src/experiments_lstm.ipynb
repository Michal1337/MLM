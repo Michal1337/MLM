{
 "cells": [
  {
   "cell_type": "code",
   "execution_count": null,
   "id": "df7ec6e1",
   "metadata": {},
   "outputs": [],
   "source": [
    "from datastreams import generate_trend_drift, generate_seasonal_drift, generate_ar1_drift\n",
    "from models import *\n",
    "import numpy as np\n",
    "import pandas as pd\n",
    "from driftdetector import DriftDetector\n",
    "from tqdm import tqdm"
   ]
  },
  {
   "cell_type": "code",
   "execution_count": null,
   "id": "4c94a981",
   "metadata": {},
   "outputs": [],
   "source": [
    "def make_dataset(data, seq_len):\n",
    "    time_series = []\n",
    "    for i in range(len(data) - seq_len + 1):\n",
    "        time_series.append(data[i:i + seq_len])\n",
    "    return np.array(time_series)[:-1], data[seq_len:]"
   ]
  },
  {
   "cell_type": "code",
   "execution_count": null,
   "id": "453fcbba",
   "metadata": {},
   "outputs": [],
   "source": [
    "def increase_lr_only(optimizer, drifted, decay_state, factor=2.0, max_lr=0.01):\n",
    "    if drifted:\n",
    "        for i, pg in enumerate(optimizer.param_groups):\n",
    "            base_lr = decay_state['base_lrs'][i]\n",
    "            pg['lr'] = min(base_lr * factor, max_lr)\n",
    "\n",
    "def increase_and_decay_lr(optimizer, drifted, decay_state, factor=2.0, decay_steps=10):\n",
    "    base_lrs = decay_state['base_lrs']\n",
    "    \n",
    "    if drifted:\n",
    "        for i, pg in enumerate(optimizer.param_groups):\n",
    "            pg['lr'] = base_lrs[i] * factor\n",
    "        decay_state['current_decay_step'] = decay_steps\n",
    "\n",
    "    elif decay_state['current_decay_step'] > 0:\n",
    "        decay_state['current_decay_step'] -= 1\n",
    "        for i, pg in enumerate(optimizer.param_groups):\n",
    "            boosted_lr = base_lrs[i] * factor\n",
    "            ratio = decay_state['current_decay_step'] / decay_steps\n",
    "            pg['lr'] = base_lrs[i] + (boosted_lr - base_lrs[i]) * ratio\n",
    "\n",
    "def do_nothing(optimizer, drifted, decay_state):\n",
    "    pass"
   ]
  },
  {
   "cell_type": "code",
   "execution_count": null,
   "id": "c6918ffb",
   "metadata": {},
   "outputs": [],
   "source": [
    "def train_model(model, detector, x_all, y_all, seq_len, optimizer, loss_fn, device, drift_action):\n",
    "\n",
    "    model.train()\n",
    "    all_loss = []\n",
    "\n",
    "    # For drift action state\n",
    "    base_lrs = [pg['lr'] for pg in optimizer.param_groups]\n",
    "    decay_state = {\n",
    "        'base_lrs': base_lrs,\n",
    "        'current_decay_step': 0\n",
    "    }\n",
    "\n",
    "    step = 0\n",
    "    mae_values = []\n",
    "    mae_values_full = []\n",
    "\n",
    "    for x, y in zip(x_all, y_all):\n",
    "        step += 1\n",
    "        x_ten = torch.tensor(x, dtype=torch.float32).view(1, seq_len, -1).to(device)\n",
    "        y_ten = torch.tensor(y, dtype=torch.float32).view(1, -1).to(device)\n",
    "        # Training step\n",
    "        optimizer.zero_grad()\n",
    "        pred = model(x_ten)\n",
    "        loss = loss_fn(pred, y_ten)\n",
    "        loss.backward()\n",
    "        optimizer.step()\n",
    "        all_loss.append(loss.item())\n",
    "\n",
    "        # Drift handling\n",
    "        if detector.update(loss.item()):\n",
    "            drift_action(optimizer, drifted=True, decay_state=decay_state)\n",
    "\n",
    "        drift_action(optimizer, drifted=False, decay_state=decay_state)\n",
    "        \n",
    "        mae_full = torch.abs(pred - y_ten).mean().item()\n",
    "        mae_values_full.append(mae_full)\n",
    "\n",
    "        # Post-warmup MAE tracking\n",
    "        if step >= 200:\n",
    "            mae_values.append(mae_full)\n",
    "\n",
    "    avg_loss = sum(all_loss) / len(all_loss) if all_loss else 0.0\n",
    "    avg_mae_post_warmup = sum(mae_values) / len(mae_values) if mae_values else 0.0\n",
    "    avg_mae_full = sum(mae_values_full) / len(mae_values_full) if mae_values_full else 0.0\n",
    "\n",
    "\n",
    "    return model, avg_loss, avg_mae_post_warmup, avg_mae_full\n"
   ]
  },
  {
   "cell_type": "code",
   "execution_count": null,
   "id": "3800fa89",
   "metadata": {},
   "outputs": [],
   "source": [
    "device = 'cuda' if torch.cuda.is_available() else 'cpu'"
   ]
  },
  {
   "cell_type": "code",
   "execution_count": null,
   "id": "45958db9",
   "metadata": {},
   "outputs": [],
   "source": [
    "streams = [generate_trend_drift, generate_seasonal_drift, generate_ar1_drift]\n",
    "n_dims = [1, 3, 5]\n",
    "n_pointss = [20_000, 50_000]\n",
    "detector_types = [\"ADWIN\", \"PageHinkley\"]\n",
    "drift_actions = [increase_lr_only, increase_and_decay_lr]\n",
    "seq_lens = [16, 32, 64]"
   ]
  },
  {
   "cell_type": "code",
   "execution_count": null,
   "id": "c8449144",
   "metadata": {},
   "outputs": [],
   "source": [
    "hidden_sizess = [16, 32, 64]"
   ]
  },
  {
   "cell_type": "code",
   "execution_count": null,
   "id": "55f29a91",
   "metadata": {},
   "outputs": [],
   "source": [
    "len(streams) * len(n_dims) * len(n_pointss) * len(detector_types) * len(drift_actions) * len(seq_lens) * len(hidden_sizess)"
   ]
  },
  {
   "cell_type": "code",
   "execution_count": null,
   "id": "53814954",
   "metadata": {},
   "outputs": [],
   "source": [
    "for stream_func in streams:\n",
    "    for n_dim in tqdm(n_dims):\n",
    "        for n_points in n_pointss:\n",
    "            data = stream_func(n_points, n_dim)\n",
    "            for detector_type in detector_types:\n",
    "                detector = DriftDetector(method=detector_type)\n",
    "                for drift_action in drift_actions:\n",
    "                    for seq_len in seq_lens:\n",
    "                        for hidden_sizes in hidden_sizess:\n",
    "                            x_all, y_all = make_dataset(data, seq_len)\n",
    "                            model = RNNModel(\n",
    "                                input_size=n_dim,\n",
    "                                hidden_size=hidden_sizes,\n",
    "                                output_size=n_dim,\n",
    "                                rnn_type='lstm'\n",
    "                            )\n",
    "                            model.to(device)\n",
    "                            optimizer = torch.optim.Adam(model.parameters(), lr=0.001)\n",
    "                            loss_fn = nn.MSELoss()\n",
    "                            model, loss, mae_full, mae_warmup = train_model(\n",
    "                                model,\n",
    "                                detector,\n",
    "                                x_all,\n",
    "                                y_all,\n",
    "                                seq_len,\n",
    "                                optimizer,\n",
    "                                loss_fn,\n",
    "                                device=device,\n",
    "                                drift_action=drift_action\n",
    "                            )\n",
    "                            # save stream, n_dim, n_points, detector_type, seq_len, hidden_sizes, train_loss, test_loss to CVS file\n",
    "                            with open(\"results_lstm.csv\", \"a\") as f:\n",
    "                                f.write(\n",
    "                                    f\"{stream_func.__name__};{n_dim};{n_points};{detector_type};{seq_len};{hidden_sizes};{loss};{mae_full};{mae_warmup}\\n\"\n",
    "                                )"
   ]
  },
  {
   "cell_type": "code",
   "execution_count": null,
   "id": "402bb236",
   "metadata": {},
   "outputs": [],
   "source": []
  },
  {
   "cell_type": "code",
   "execution_count": null,
   "id": "9cf84952",
   "metadata": {},
   "outputs": [],
   "source": []
  }
 ],
 "metadata": {
  "kernelspec": {
   "display_name": "base",
   "language": "python",
   "name": "python3"
  },
  "language_info": {
   "codemirror_mode": {
    "name": "ipython",
    "version": 3
   },
   "file_extension": ".py",
   "mimetype": "text/x-python",
   "name": "python",
   "nbconvert_exporter": "python",
   "pygments_lexer": "ipython3",
   "version": "3.12.3"
  }
 },
 "nbformat": 4,
 "nbformat_minor": 5
}
